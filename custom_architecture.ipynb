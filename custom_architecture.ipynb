{
 "cells": [
  {
   "cell_type": "code",
   "execution_count": 42,
   "metadata": {},
   "outputs": [
    {
     "name": "stdout",
     "output_type": "stream",
     "text": [
      "The autoreload extension is already loaded. To reload it, use:\n",
      "  %reload_ext autoreload\n"
     ]
    }
   ],
   "source": [
    "%load_ext autoreload\n",
    "%autoreload 2"
   ]
  },
  {
   "cell_type": "code",
   "execution_count": 43,
   "metadata": {},
   "outputs": [],
   "source": [
    "import os\n",
    "import numpy as np\n",
    "import cv2\n",
    "import matplotlib.pyplot as plt\n",
    "import torch\n",
    "import torch.nn.functional as F\n",
    "from torch.utils.data import Dataset, DataLoader\n",
    "import torchvision.transforms as transforms\n",
    "from PIL import Image\n",
    "import torchvision.transforms.functional as TF\n",
    "import random\n",
    "import torch.nn as nn"
   ]
  },
  {
   "cell_type": "code",
   "execution_count": 44,
   "metadata": {},
   "outputs": [],
   "source": [
    "from PIL import Image\n",
    "import numpy as np\n",
    "import matplotlib.pyplot as plt\n",
    "import torch\n",
    "import torch.nn.functional as F\n",
    "from torch.utils.data import DataLoader\n",
    "from torchvision.transforms import ToTensor, Lambda\n",
    "from tqdm import tqdm\n",
    "\n",
    "from dataset import GTA"
   ]
  },
  {
   "cell_type": "code",
   "execution_count": 45,
   "metadata": {},
   "outputs": [
    {
     "data": {
      "text/plain": [
       "'cuda'"
      ]
     },
     "execution_count": 45,
     "metadata": {},
     "output_type": "execute_result"
    }
   ],
   "source": [
    "device = 'cuda' if torch.cuda.is_available() else 'cpu'\n",
    "device"
   ]
  },
  {
   "cell_type": "code",
   "execution_count": 46,
   "metadata": {},
   "outputs": [],
   "source": [
    "scaling_factor = 2\n",
    "crop_size = 96*scaling_factor\n",
    "large_kernel_size = 9\n",
    "small_kernel_size = 3\n",
    "n_channels = 64\n",
    "n_blocks = 16\n",
    "lr_img_type = '[0, 1]'#'gta-small-norm'#\n",
    "hr_img_type = '[0, 1]'#'[-1, 1]'\n",
    "\n",
    "batch_size = 8\n",
    "epochs = 4\n",
    "lr = 1e-4\n",
    "#grad_clip = None\n",
    "\n",
    "train_path = 'data/GTAV/small/'\n",
    "training_data = GTA(train_path,'train',crop_size, scaling_factor,lr_img_type,hr_img_type)\n",
    "train_dataloader = DataLoader(training_data, batch_size=batch_size, shuffle=True, num_workers=4, pin_memory=True)"
   ]
  },
  {
   "cell_type": "code",
   "execution_count": 47,
   "metadata": {},
   "outputs": [],
   "source": [
    "import torch\n",
    "import torch.nn as nn\n",
    "\n",
    "class ResidualBlock(nn.Module):\n",
    "    def __init__(self, channels):\n",
    "        super(ResidualBlock, self).__init__()\n",
    "        self.conv1 = nn.Conv2d(channels, channels, kernel_size=3, padding=1)\n",
    "        self.bn1 = nn.BatchNorm2d(channels)\n",
    "        self.relu = nn.ReLU(inplace=True)\n",
    "        self.conv2 = nn.Conv2d(channels, channels, kernel_size=3, padding=1)\n",
    "        self.bn2 = nn.BatchNorm2d(channels)\n",
    "\n",
    "    def forward(self, x):\n",
    "        identity = x\n",
    "        out = self.relu(self.bn1(self.conv1(x)))\n",
    "        out = self.bn2(self.conv2(out))\n",
    "        return self.relu(out + identity)\n",
    "\n",
    "class AdvancedUpscaleNet(nn.Module):\n",
    "    def __init__(self, upscale_factor=2, num_residuals=8):\n",
    "        super(AdvancedUpscaleNet, self).__init__()\n",
    "        self.entry = nn.Conv2d(3, 64, kernel_size=3, padding=1)\n",
    "        \n",
    "        self.res_blocks = nn.Sequential(\n",
    "            *[ResidualBlock(64) for _ in range(num_residuals)]\n",
    "        )\n",
    "\n",
    "        self.conv_mid = nn.Conv2d(64, 64, kernel_size=3, padding=1)\n",
    "        \n",
    "        self.out_conv = nn.Conv2d(64, 3 * (upscale_factor ** 2), kernel_size=3, padding=1)\n",
    "        self.pixel_shuffle = nn.PixelShuffle(upscale_factor)\n",
    "\n",
    "    def forward(self, x):\n",
    "        x = self.entry(x)\n",
    "        x = self.res_blocks(x)\n",
    "        x = self.conv_mid(x)\n",
    "        x = self.pixel_shuffle(self.out_conv(x))\n",
    "        return x"
   ]
  },
  {
   "cell_type": "code",
   "execution_count": 48,
   "metadata": {},
   "outputs": [
    {
     "name": "stderr",
     "output_type": "stream",
     "text": [
      "C:\\Users\\Robert\\AppData\\Local\\Temp\\ipykernel_2196\\2992988900.py:6: FutureWarning: You are using `torch.load` with `weights_only=False` (the current default value), which uses the default pickle module implicitly. It is possible to construct malicious pickle data which will execute arbitrary code during unpickling (See https://github.com/pytorch/pytorch/blob/main/SECURITY.md#untrusted-models for more details). In a future release, the default value for `weights_only` will be flipped to `True`. This limits the functions that could be executed during unpickling. Arbitrary objects will no longer be allowed to be loaded via this mode unless they are explicitly allowlisted by the user via `torch.serialization.add_safe_globals`. We recommend you start setting `weights_only=True` for any use case where you don't have full control of the loaded file. Please open an issue on GitHub for any issues related to this experimental feature.\n",
      "  checkpoint = torch.load(checkpoint)\n"
     ]
    }
   ],
   "source": [
    "torch.cuda.empty_cache()\n",
    "criterion = nn.MSELoss().to(device)\n",
    "checkpoint = 'checkpoint_custom_model.pth.tar'\n",
    "#checkpoint = None\n",
    "if checkpoint is not None:\n",
    "    checkpoint = torch.load(checkpoint)\n",
    "    start_epoch = checkpoint['epoch'] + 1\n",
    "    model = checkpoint['model']\n",
    "    optimizer = checkpoint['optimizer']\n",
    "else:\n",
    "    model = AdvancedUpscaleNet().to(device)\n",
    "    optimizer = torch.optim.Adam(params=filter(lambda p: p.requires_grad, model.parameters()),lr=lr)\n",
    "    start_epoch = 0"
   ]
  },
  {
   "cell_type": "code",
   "execution_count": 49,
   "metadata": {},
   "outputs": [
    {
     "name": "stdout",
     "output_type": "stream",
     "text": [
      "EPOCH 5\n"
     ]
    },
    {
     "name": "stderr",
     "output_type": "stream",
     "text": [
      "Epoch 5/8: 100%|██████████| 313/313 [00:29<00:00, 10.55it/s, loss=0.00321]\n"
     ]
    },
    {
     "name": "stdout",
     "output_type": "stream",
     "text": [
      "EPOCH 6\n"
     ]
    },
    {
     "name": "stderr",
     "output_type": "stream",
     "text": [
      "Epoch 6/8: 100%|██████████| 313/313 [00:29<00:00, 10.70it/s, loss=0.00296]\n"
     ]
    },
    {
     "name": "stdout",
     "output_type": "stream",
     "text": [
      "EPOCH 7\n"
     ]
    },
    {
     "name": "stderr",
     "output_type": "stream",
     "text": [
      "Epoch 7/8: 100%|██████████| 313/313 [00:28<00:00, 11.00it/s, loss=0.00217]\n"
     ]
    },
    {
     "name": "stdout",
     "output_type": "stream",
     "text": [
      "EPOCH 8\n"
     ]
    },
    {
     "name": "stderr",
     "output_type": "stream",
     "text": [
      "Epoch 8/8: 100%|██████████| 313/313 [00:28<00:00, 10.84it/s, loss=0.00251]\n"
     ]
    }
   ],
   "source": [
    "losses = []\n",
    "\n",
    "for epoch in range(epochs):\n",
    "    print(\"EPOCH\",epoch+start_epoch+1)\n",
    "    running_loss = 0\n",
    "    print_freq = 20\n",
    "    loop = tqdm(train_dataloader, desc=f\"Epoch {epoch+1+start_epoch}/{epochs+start_epoch}\")\n",
    "    for i,(lr_imgs, hr_imgs) in enumerate(loop):\n",
    "        lr_imgs = lr_imgs.to(device)\n",
    "        hr_imgs = hr_imgs.to(device)\n",
    "\n",
    "        sr_imgs = model(lr_imgs)\n",
    "\n",
    "        loss = criterion(sr_imgs, hr_imgs)\n",
    "\n",
    "        optimizer.zero_grad()\n",
    "        loss.backward()\n",
    "\n",
    "        # # Clip gradients, if necessary\n",
    "        # if grad_clip is not None:\n",
    "        #     clip_gradient(optimizer, grad_clip)\n",
    "\n",
    "        optimizer.step()\n",
    "        running_loss += loss.item()\n",
    "        if i % print_freq==print_freq-1:\n",
    "            current_loss = running_loss / print_freq\n",
    "            losses.append(current_loss)\n",
    "            running_loss = 0\n",
    "\n",
    "            loop.set_postfix(loss=current_loss)\n",
    "\n",
    "    torch.save({'epoch': epoch+start_epoch,\n",
    "                    'model': model,\n",
    "                    'optimizer': optimizer},\n",
    "                   'checkpoint_custom_model.pth.tar')"
   ]
  },
  {
   "cell_type": "code",
   "execution_count": 50,
   "metadata": {},
   "outputs": [
    {
     "data": {
      "image/png": "[encoded data removed]",
      "text/plain": [
       "<Figure size 640x480 with 1 Axes>"
      ]
     },
     "metadata": {},
     "output_type": "display_data"
    }
   ],
   "source": [
    "plt.plot(losses[20:])\n",
    "plt.show()"
   ]
  },
  {
   "cell_type": "code",
   "execution_count": 1,
   "metadata": {},
   "outputs": [
    {
     "ename": "NameError",
     "evalue": "name 'torch' is not defined",
     "output_type": "error",
     "traceback": [
      "\u001b[1;31m---------------------------------------------------------------------------\u001b[0m",
      "\u001b[1;31mNameError\u001b[0m                                 Traceback (most recent call last)",
      "Cell \u001b[1;32mIn[1], line 1\u001b[0m\n\u001b[1;32m----> 1\u001b[0m \u001b[38;5;28;01mwith\u001b[39;00m \u001b[43mtorch\u001b[49m\u001b[38;5;241m.\u001b[39mno_grad():\n\u001b[0;32m      2\u001b[0m     \u001b[38;5;28;01mfor\u001b[39;00m lr_img, hr_img \u001b[38;5;129;01min\u001b[39;00m training_data:\n\u001b[0;32m      3\u001b[0m         model\u001b[38;5;241m.\u001b[39meval()\n",
      "\u001b[1;31mNameError\u001b[0m: name 'torch' is not defined"
     ]
    }
   ],
   "source": [
    "with torch.no_grad():\n",
    "    for lr_img, hr_img in training_data:\n",
    "        model.eval()\n",
    "        sr_img = model(lr_img.unsqueeze(0).to(device)).to('cpu').squeeze(0).permute(1, 2, 0).numpy()\n",
    "        # plt.imshow(np.concatenate([sr_img, (hr_img).permute(1, 2, 0).numpy()], axis=1))\n",
    "        # plt.show()\n",
    "        size = (10,10)\n",
    "        plt.figure(figsize=size)\n",
    "        plt.imshow((hr_img).permute(1, 2, 0).numpy())\n",
    "        plt.show()\n",
    "        sr_img = (((sr_img - np.min(sr_img)) / (np.max(sr_img) - np.min(sr_img)))*255).astype(np.uint8)\n",
    "        plt.figure(figsize=size)\n",
    "        plt.imshow(sr_img)\n",
    "        plt.show()\n",
    "        plt.figure(figsize=size)\n",
    "        plt.imshow((lr_img).permute(1, 2, 0).numpy())\n",
    "        plt.show()\n",
    "        break"
   ]
  },
  {
   "cell_type": "code",
   "execution_count": 52,
   "metadata": {},
   "outputs": [],
   "source": [
    "import torchvision.transforms.functional as FT\n",
    "with torch.no_grad():\n",
    "    x_hr = training_data.get_full_image(1)\n",
    "    x_lr = x_hr.resize((int(x_hr.width / 2), int(x_hr.height / 2)),\n",
    "                               Image.BICUBIC)\n",
    "    x_lr = FT.to_tensor(x_lr).unsqueeze(0).to(device)\n",
    "    x_sr = model(x_lr).to('cpu').squeeze(0).permute(1, 2, 0).numpy()\n",
    "    x_sr = (((x_sr - np.min(x_sr)) / (np.max(x_sr) - np.min(x_sr)))*255).astype(np.uint8)\n",
    "    plt.imsave('out.png',x_sr)"
   ]
  }
 ],
 "metadata": {
  "kernelspec": {
   "display_name": "3.10.11",
   "language": "python",
   "name": "python3"
  },
  "language_info": {
   "codemirror_mode": {
    "name": "ipython",
    "version": 3
   },
   "file_extension": ".py",
   "mimetype": "text/x-python",
   "name": "python",
   "nbconvert_exporter": "python",
   "pygments_lexer": "ipython3",
   "version": "3.10.11"
  }
 },
 "nbformat": 4,
 "nbformat_minor": 2
}
